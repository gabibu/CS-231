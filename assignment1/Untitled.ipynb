{
 "cells": [
  {
   "cell_type": "code",
   "execution_count": 2,
   "id": "989e6fe9",
   "metadata": {},
   "outputs": [],
   "source": [
    "import scipy "
   ]
  },
  {
   "cell_type": "code",
   "execution_count": 3,
   "id": "971996ed",
   "metadata": {},
   "outputs": [
    {
     "data": {
      "text/plain": [
       "'1.6.2'"
      ]
     },
     "execution_count": 3,
     "metadata": {},
     "output_type": "execute_result"
    }
   ],
   "source": [
    "scipy.__version__\n"
   ]
  },
  {
   "cell_type": "code",
   "execution_count": 4,
   "id": "9e905674",
   "metadata": {},
   "outputs": [
    {
     "data": {
      "text/plain": [
       "['/Users/gabibu/mycode/cs231/assignment1',\n",
       " '/Users/gabibu/opt/anaconda3/lib/python38.zip',\n",
       " '/Users/gabibu/opt/anaconda3/lib/python3.8',\n",
       " '/Users/gabibu/opt/anaconda3/lib/python3.8/lib-dynload',\n",
       " '',\n",
       " '/Users/gabibu/opt/anaconda3/lib/python3.8/site-packages',\n",
       " '/Users/gabibu/opt/anaconda3/lib/python3.8/site-packages/aeosa',\n",
       " '/Users/gabibu/opt/anaconda3/lib/python3.8/site-packages/locket-0.2.1-py3.8.egg',\n",
       " '/Users/gabibu/opt/anaconda3/lib/python3.8/site-packages/IPython/extensions',\n",
       " '/Users/gabibu/.ipython']"
      ]
     },
     "execution_count": 4,
     "metadata": {},
     "output_type": "execute_result"
    }
   ],
   "source": [
    "import sys\n",
    "sys.path"
   ]
  },
  {
   "cell_type": "code",
   "execution_count": null,
   "id": "0c7578f8",
   "metadata": {},
   "outputs": [],
   "source": []
  }
 ],
 "metadata": {
  "kernelspec": {
   "display_name": "aidoc",
   "language": "python",
   "name": "aidoc"
  },
  "language_info": {
   "codemirror_mode": {
    "name": "ipython",
    "version": 3
   },
   "file_extension": ".py",
   "mimetype": "text/x-python",
   "name": "python",
   "nbconvert_exporter": "python",
   "pygments_lexer": "ipython3",
   "version": "3.8.8"
  }
 },
 "nbformat": 4,
 "nbformat_minor": 5
}
