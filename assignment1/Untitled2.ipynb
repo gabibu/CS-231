{
 "cells": [
  {
   "cell_type": "code",
   "execution_count": 1,
   "id": "4449d9fb",
   "metadata": {},
   "outputs": [
    {
     "data": {
      "text/plain": [
       "['/Users/gabibu/opt/anaconda3/envs/aidoc2/lib/python36.zip',\n",
       " '/Users/gabibu/opt/anaconda3/envs/aidoc2/lib/python3.6',\n",
       " '/Users/gabibu/opt/anaconda3/envs/aidoc2/lib/python3.6/lib-dynload',\n",
       " '',\n",
       " '/Users/gabibu/opt/anaconda3/envs/aidoc2/lib/python3.6/site-packages',\n",
       " '/Users/gabibu/opt/anaconda3/envs/aidoc2/lib/python3.6/site-packages/IPython/extensions',\n",
       " '/Users/gabibu/.ipython']"
      ]
     },
     "execution_count": 1,
     "metadata": {},
     "output_type": "execute_result"
    }
   ],
   "source": [
    "import sys\n",
    "sys.path"
   ]
  },
  {
   "cell_type": "code",
   "execution_count": null,
   "id": "c8eeb5e2",
   "metadata": {},
   "outputs": [],
   "source": []
  }
 ],
 "metadata": {
  "kernelspec": {
   "display_name": "Python 3",
   "language": "python",
   "name": "python3"
  },
  "language_info": {
   "codemirror_mode": {
    "name": "ipython",
    "version": 3
   },
   "file_extension": ".py",
   "mimetype": "text/x-python",
   "name": "python",
   "nbconvert_exporter": "python",
   "pygments_lexer": "ipython3",
   "version": "3.6.13"
  }
 },
 "nbformat": 4,
 "nbformat_minor": 5
}
